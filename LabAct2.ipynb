{
 "cells": [
  {
   "cell_type": "code",
   "execution_count": 3,
   "id": "3eed4a2c",
   "metadata": {},
   "outputs": [
    {
     "name": "stdout",
     "output_type": "stream",
     "text": [
      "     CustomerID  Age  EducationLevel  YearsEmployed  Income  CardDebt  \\\n",
      "0             1   41               2              6      19     0.124   \n",
      "1             2   47               1             26     100     4.582   \n",
      "2             3   33               2             10      57     6.111   \n",
      "3             4   29               2              4      19     0.681   \n",
      "4             5   47               1             31     253     9.308   \n",
      "..          ...  ...             ...            ...     ...       ...   \n",
      "845         846   27               1              5      26     0.548   \n",
      "846         847   28               2              7      34     0.359   \n",
      "847         848   25               4              0      18     2.802   \n",
      "848         849   32               1             12      28     0.116   \n",
      "849         850   52               1             16      64     1.866   \n",
      "\n",
      "     OtherDebt  Defaulted  DebtIncomeRatio  \n",
      "0        1.073        0.0              6.3  \n",
      "1        8.218        0.0             12.8  \n",
      "2        5.802        1.0             20.9  \n",
      "3        0.516        0.0              6.3  \n",
      "4        8.908        0.0              7.2  \n",
      "..         ...        ...              ...  \n",
      "845      1.220        NaN              6.8  \n",
      "846      2.021        0.0              7.0  \n",
      "847      3.210        1.0             33.4  \n",
      "848      0.696        0.0              2.9  \n",
      "849      3.638        0.0              8.6  \n",
      "\n",
      "[850 rows x 9 columns]\n"
     ]
    }
   ],
   "source": [
    "import pandas as pd\n",
    "from sklearn.preprocessing import StandardScaler\n",
    "from sklearn.cluster import KMeans\n",
    "import matplotlib.pyplot as plt\n",
    "import seaborn as sns\n",
    "\n",
    "df = pd.read_csv(\"debtData.csv\")\n",
    "print(df)"
   ]
  },
  {
   "cell_type": "code",
   "execution_count": null,
   "id": "b1ccf1d5",
   "metadata": {},
   "outputs": [],
   "source": [
    "#Select columns for clustering\n",
    "features = ['Age', 'CustomerID', 'Age', 'EducationLevel', 'YearsEmployed', 'Income', 'CardDebt', 'OtherDebt', 'Defaulted', 'DebtIncomeRatio']\n",
    "X = df[features]"
   ]
  },
  {
   "cell_type": "code",
   "execution_count": null,
   "id": "849a79e8",
   "metadata": {},
   "outputs": [],
   "source": [
    "#Scaling the columns\n",
    "scaler = StandardScaler()\n",
    "X_scaled = scaler.fit_transorm(X)"
   ]
  },
  {
   "cell_type": "code",
   "execution_count": null,
   "id": "3df80380",
   "metadata": {},
   "outputs": [],
   "source": [
    "#Elbow Method to determine optimal number of clusters\n",
    "inertia = []\n",
    "k_range = range(1, 6)\n",
    "\n",
    "for k in k_range:\n",
    "    kmeans = KMeans(n_clusters=k, random_state=42)\n",
    "    kmeans.fit(X_scaled)\n",
    "    inertia.append(kmeans.inertia_)\n",
    "\n",
    "plt.plot(k_range, inertia, marker= 'o')\n",
    "plt.title('Elbow Method')\n",
    "plt.xlabel('Number of Clusters')\n",
    "plt.ylabel('Inertia')\n",
    "plt.grid(True)\n",
    "plt.show()"
   ]
  },
  {
   "cell_type": "code",
   "execution_count": null,
   "id": "3d0528a8",
   "metadata": {},
   "outputs": [],
   "source": []
  }
 ],
 "metadata": {
  "kernelspec": {
   "display_name": "Python 3",
   "language": "python",
   "name": "python3"
  },
  "language_info": {
   "codemirror_mode": {
    "name": "ipython",
    "version": 3
   },
   "file_extension": ".py",
   "mimetype": "text/x-python",
   "name": "python",
   "nbconvert_exporter": "python",
   "pygments_lexer": "ipython3",
   "version": "3.11.9"
  }
 },
 "nbformat": 4,
 "nbformat_minor": 5
}
